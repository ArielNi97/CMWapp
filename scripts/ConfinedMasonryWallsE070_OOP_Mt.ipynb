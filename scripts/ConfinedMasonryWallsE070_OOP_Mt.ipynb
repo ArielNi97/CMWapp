{
 "cells": [
  {
   "cell_type": "code",
   "execution_count": null,
   "metadata": {},
   "outputs": [],
   "source": [
    "import numpy as np\n",
    "import pandas as pd\n",
    "from sympy import init_printing\n",
    "from pathlib import Path\n",
    "# import handcalcs.render\n",
    "import math\n",
    "from math import sqrt\n",
    "import itertools\n",
    "import matplotlib.pyplot as plt\n",
    "#Formato latex al output\n",
    "init_printing(use_latex=\"mathjax\")\n",
    "#Automatizando el path del documento.\n",
    "path = Path().resolve()\n",
    "import seaborn as sns\n",
    "from pandas.plotting import scatter_matrix\n",
    "from matplotlib.patches import Polygon\n",
    "   \n",
    "\n",
    "\n",
    "     \n",
    "     \n",
    "class OOPlaneMoment_E070_Mt:\n",
    " \n",
    "     def __init__ (self,Walls_df):\n",
    "        \n",
    "        \"\"\"\n",
    "        ms: [kg-m/m] = Momento flector generado por la carga sismica fuera del plano\n",
    "        t: 0.15 Default [m] =  Espesor del muro de mamposteria.\n",
    "        l: [m] = Longitud total del muro incluyendo columnas.\n",
    "        pg: [kg] = Carga axial total actuante en el muro.\n",
    "        \"\"\"        \n",
    "        \n",
    "        self.ms = Walls_df['ms']\n",
    "        self.t = Walls_df['t']\n",
    "        self.l = Walls_df['L']\n",
    "        self.pg = Walls_df['P (kg)']\n",
    "\n",
    "        \n",
    "     def Mt(self): \n",
    "        \n",
    "         self.e = self.t*0.10 # 10% del espesor del muro se tomaría como la excentricidad para la carga gravitacional\n",
    "         self.mg = self.pg*self.e\n",
    "         self.mt = self.ms + self.mg\n",
    "         \n",
    "\n",
    "         return self.mt       \n",
    "     \n",
    "     \n",
    "        "
   ]
  }
 ],
 "metadata": {
  "language_info": {
   "name": "python"
  }
 },
 "nbformat": 4,
 "nbformat_minor": 2
}
