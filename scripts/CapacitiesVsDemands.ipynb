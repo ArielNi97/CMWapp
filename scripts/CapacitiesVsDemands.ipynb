{
 "cells": [
  {
   "cell_type": "code",
   "execution_count": null,
   "metadata": {},
   "outputs": [],
   "source": [
    "import pandas as pd\n",
    "import numpy as np\n",
    "from pathlib import Path\n",
    "import joblib\n",
    "folder_path = Path(__file__).parent.parent\n",
    "\n",
    "# loading Data and Capacities\n",
    "\n",
    "LoadInput = pd.read_csv(folder_path.joinpath('Inputs/Input_Walls_Loads.csv'))\n",
    "Pn_df = pd.read_csv(folder_path.joinpath('outputs/Pn.csv'))\n",
    "Mn_df = pd.read_csv(folder_path.joinpath('outputs/Mn.csv'))\n",
    "Vn_df = pd.read_csv(folder_path.joinpath('outputs/IPVn.csv'))\n",
    "\n",
    "# Preparing data for the 1v1 plots\n",
    "\n",
    "PnvsPu = pd.merge(LoadInput[['Wall Label','P (kg)']], Pn_df, on = 'Wall Label')\n",
    "PnvsPu = PnvsPu.rename(columns={\"P (kg)\": \"Pu (kg)\"})\n",
    "PnvsPu = PnvsPu.iloc[:, [0,2,3,1]]\n",
    "\n",
    "MnvsMu = pd.merge(LoadInput[['Wall Label','Mip (kg-m)']], Mn_df, on = 'Wall Label')\n",
    "MnvsMu = MnvsMu.rename(columns={\"Mip (kg-m)\": \"Mu (kg-m)\"})\n",
    "\n",
    "MnvsMu = MnvsMu.iloc[:, [0,2,3,1]]\n",
    "\n",
    "IPVnvsVu = pd.merge(LoadInput[['Wall Label','V (kg)']], Vn_df, on = 'Wall Label')\n",
    "IPVnvsVu = IPVnvsVu.rename(columns={\"V (kg)\": \"Vu (kg)\"})\n",
    "IPVnvsVu = IPVnvsVu.iloc[:, [0,2,3,1]]\n",
    "\n",
    "\n",
    "LimitLineAxial = pd.DataFrame({'Pu (kg)': [0,np.max(PnvsPu['Pn (kg)'])],'Pn (kg)': [0,np.max(PnvsPu['Pn (kg)'])]})\n",
    "LimitLineBending = pd.DataFrame({'Mu (kg-m)': [0,np.max(MnvsMu['Mn (kg-m)'])],'Mn (kg-m)': [0,np.max(MnvsMu['Mn (kg-m)'])]})\n",
    "LimitLineIPShear = pd.DataFrame({'Vu (kg)': [0,np.max(IPVnvsVu['Vn (kg)'])],'Vn (kg)': [0,np.max(IPVnvsVu['Vn (kg)'])]})\n",
    "\n",
    "## Saving the data\n",
    "PnvsPu.to_csv(folder_path.joinpath('outputs/PnvsPu.csv'), index = False)   \n",
    "MnvsMu.to_csv(folder_path.joinpath('outputs/MnvsMu.csv'), index = False) \n",
    "IPVnvsVu.to_csv(folder_path.joinpath('outputs/IPVnvsVu.csv'), index = False) \n",
    "\n",
    "LimitLineAxial.to_csv(folder_path.joinpath('outputs/LimitLineAxial.csv'), index = False)   \n",
    "LimitLineBending.to_csv(folder_path.joinpath('outputs/LimitLineBending.csv'), index = False) \n",
    "LimitLineIPShear.to_csv(folder_path.joinpath('outputs/LimitLineIPShear.csv'), index = False) \n",
    "\n"
   ]
  }
 ],
 "metadata": {
  "language_info": {
   "name": "python"
  }
 },
 "nbformat": 4,
 "nbformat_minor": 2
}
