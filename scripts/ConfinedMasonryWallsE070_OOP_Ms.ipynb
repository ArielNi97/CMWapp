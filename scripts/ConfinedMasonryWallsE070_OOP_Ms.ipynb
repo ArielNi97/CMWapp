{
 "cells": [
  {
   "cell_type": "code",
   "execution_count": null,
   "metadata": {},
   "outputs": [],
   "source": [
    "import numpy as np\n",
    "import pandas as pd\n",
    "from sympy import init_printing\n",
    "from pathlib import Path\n",
    "# import handcalcs.render\n",
    "import math\n",
    "from math import sqrt\n",
    "import itertools\n",
    "import matplotlib.pyplot as plt\n",
    "#Formato latex al output\n",
    "init_printing(use_latex=\"mathjax\")\n",
    "#Automatizando el path del documento.\n",
    "path = Path().resolve()\n",
    "import seaborn as sns\n",
    "from pandas.plotting import scatter_matrix\n",
    "from matplotlib.patches import Polygon\n",
    "   \n",
    "\n",
    "\n",
    "     \n",
    "     \n",
    "class OOPlaneSeismicMoment_E070_Ms:\n",
    " \n",
    "     def __init__ (self, Walls):\n",
    "\n",
    "        \"\"\"\n",
    "        m: [-] = Coeficiente de momento indicado en la tabla 23\n",
    "        a: [m] = Dimension critica del paño de albañileria de tabla 23 (Longitud del muro)\n",
    "        w: [kg/m2] = Magnitud de carga fuera del plano por unidad de area del muro.\n",
    "        \n",
    "        Tomado de Articulo 68 de la norma E070 de peru.\n",
    "        \"\"\" \n",
    " \n",
    "        self.m = Walls['m']\n",
    "        self.w = Walls['w']\n",
    "        self.a = Walls['a']\n",
    "      \n",
    "        \n",
    "     def Ms(self): \n",
    " \n",
    "         self.ms = self.m*self.w*self.a**2\n",
    "         \n",
    "         return self.ms       \n",
    "     \n",
    "     \n",
    "        \n",
    "     "
   ]
  }
 ],
 "metadata": {
  "language_info": {
   "name": "python"
  }
 },
 "nbformat": 4,
 "nbformat_minor": 2
}
