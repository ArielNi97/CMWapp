{
 "cells": [
  {
   "cell_type": "code",
   "execution_count": null,
   "metadata": {},
   "outputs": [],
   "source": [
    "import numpy as np\n",
    "import pandas as pd\n",
    "from sympy import init_printing\n",
    "from pathlib import Path\n",
    "# import handcalcs.render\n",
    "import math\n",
    "from math import sqrt\n",
    "import itertools\n",
    "import matplotlib.pyplot as plt\n",
    "#Formato latex al output\n",
    "init_printing(use_latex=\"mathjax\")\n",
    "#Automatizando el path del documento.\n",
    "path = Path().resolve()\n",
    "import seaborn as sns\n",
    "from pandas.plotting import scatter_matrix\n",
    "from matplotlib.patches import Polygon\n",
    "   \n",
    "\n",
    "\n",
    "def W(X): \n",
    "    if X['Level'] == 1: return  0.4*X['a']*X['I']*X['Fs']*X['Pe']\n",
    "    elif X['Level'] != 1: return 0.3*X['Sum_V']/X['Sum_P']*2*X['Pe'] \n",
    "    else: return 0        \n",
    "\n",
    "     \n",
    "        \n",
    " \n",
    "    \n",
    "   "
   ]
  }
 ],
 "metadata": {
  "language_info": {
   "name": "python"
  }
 },
 "nbformat": 4,
 "nbformat_minor": 2
}
