{
 "cells": [
  {
   "cell_type": "code",
   "execution_count": null,
   "metadata": {},
   "outputs": [],
   "source": [
    "import pandas as pd\n",
    "import numpy as np\n",
    "from pathlib import Path\n",
    "import joblib\n",
    "folder_path = Path(__file__).parent.parent\n",
    "\n",
    "# loading Data and capacities\n",
    "\n",
    "fnvsfu_AF = pd.read_csv(folder_path.joinpath('outputs/fnvsfu_oop_anyfloor.csv'))\n",
    "fnvsfu_FF = pd.read_csv(folder_path.joinpath('outputs/fnvsfu_oop_firstfloor.csv'))\n",
    "fnvsfu_HF = pd.read_csv(folder_path.joinpath('outputs/fnvsfu_oop_highestfloor.csv'))\n",
    "\n",
    "# Preparing data for the 1v1 plots\n",
    "\n",
    "LimitLineOop_FirstFloor = pd.DataFrame({'fu (kg/m2)': [np.max(fnvsfu_FF['fn (kg/m2)']),np.max(fnvsfu_FF['fn (kg/m2)'])],'fn (kg/m2)': [0,np.max(fnvsfu_FF['fn (kg/m2)'])]})\n",
    "LimitLineOop_HighestFloor = pd.DataFrame({'fu (kg/m2)': [np.max(fnvsfu_HF['fn (kg/m2)']),np.max(fnvsfu_HF['fn (kg/m2)'])],'fn (kg/m2)': [0,np.max(fnvsfu_HF['fn (kg/m2)'])]})\n",
    "LimitLineOop_AnyFloor = pd.DataFrame({'f_DCR': [np.max(fnvsfu_AF['Max_DCR']),np.max(fnvsfu_AF['Max_DCR'])],'Max_DCR': [0,np.max(fnvsfu_AF['Max_DCR'])]})\n",
    "\n",
    "## Saving the data\n",
    "\n",
    "LimitLineOop_FirstFloor.to_csv(folder_path.joinpath('outputs/LimitLineOop_FirstFloor.csv'), index = False)   \n",
    "LimitLineOop_HighestFloor.to_csv(folder_path.joinpath('outputs/LimitLineOop_HighestFloor.csv'), index = False) \n",
    "LimitLineOop_AnyFloor.to_csv(folder_path.joinpath('outputs/LimitLineOop_AnyFloor.csv'), index = False) \n",
    "\n"
   ]
  }
 ],
 "metadata": {
  "language_info": {
   "name": "python"
  }
 },
 "nbformat": 4,
 "nbformat_minor": 2
}
