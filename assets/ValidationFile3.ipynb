{
 "cells": [
  {
   "cell_type": "markdown",
   "metadata": {},
   "source": [
    "# Example 3: Out of Plane confined Masonry Wall Capacity\n",
    "\n",
    "## Description\n",
    "\n",
    "Calculate the out of plane capacity and demand stresses of a first-story confined Masonry wall of a two-story residency which has all the borders restrained. This wall is located in Managua (a = 0.367g), and a Soil Amplification factor of 1.7 (Assuming type of soil D), per Managua City Seismic Resistant Code (NSM, 2021). The wall has a thickness of 15 cm, the wall total length (including vertical confined elements) is 3.00 m, its height 3.50 m, the columns and beams, width and height, is 15 cm both, the intermediate beam is located at the half of the wall's height. After a Seismic and Gravity Analysis of the building, the wall results in having an axial load of 4000 kg (Assume an eccentricity of 10% of the thickness of the wall) and the shear load is 1000kg. Consider f'm = 55 kg/cm2 based on net area. Use the Guidelines on chapter 19 (E070,2019) to do the stress check.\n"
   ]
  },
  {
   "cell_type": "code",
   "execution_count": 6,
   "metadata": {},
   "outputs": [],
   "source": [
    "import numpy as np\n",
    "import handcalcs.render "
   ]
  },
  {
   "cell_type": "code",
   "execution_count": 7,
   "metadata": {},
   "outputs": [
    {
     "data": {
      "text/html": [
       "<script>\n",
       "code_show=true; \n",
       "function code_toggle() {\n",
       " if (code_show){\n",
       " $('div.input').hide();\n",
       " } else {\n",
       " $('div.input').show();\n",
       " }\n",
       " code_show = !code_show\n",
       "} \n",
       "$( document ).ready(code_toggle);\n",
       "</script>\n",
       "<form action=\"javascript:code_toggle()\"><input type=\"submit\" value=\"Click here to toggle on/off the raw code.\"></form>"
      ],
      "text/plain": [
       "<IPython.core.display.HTML object>"
      ]
     },
     "execution_count": 7,
     "metadata": {},
     "output_type": "execute_result"
    }
   ],
   "source": [
    "from IPython.display import HTML\n",
    "\n",
    "HTML('''<script>\n",
    "code_show=true; \n",
    "function code_toggle() {\n",
    " if (code_show){\n",
    " $('div.input').hide();\n",
    " } else {\n",
    " $('div.input').show();\n",
    " }\n",
    " code_show = !code_show\n",
    "} \n",
    "$( document ).ready(code_toggle);\n",
    "</script>\n",
    "<form action=\"javascript:code_toggle()\"><input type=\"submit\" value=\"Click here to toggle on/off the raw code.\"></form>''')"
   ]
  },
  {
   "cell_type": "code",
   "execution_count": 8,
   "metadata": {},
   "outputs": [
    {
     "data": {
      "text/latex": [
       "\\[\n",
       "\\begin{aligned}\n",
       "& \\textrm{ \\huge Solution:}\\\\[10pt]\n",
       "& \\textrm{ \\LARGE Data:}\\\\[10pt]\n",
       "& \\textrm{ \\textbf{1. Seismic Hazard}}\\\\[10pt]\n",
       "& \\textrm{ 1.1. PGA}\\\\[10pt]\n",
       "\\mathrm{ac} &= 0.367 \\; \\;\\textrm{(g)}\n",
       "\\\\[10pt]\n",
       "& \\textrm{ 1.2. Soil Amplification Factor}\\\\[10pt]\n",
       "\\mathrm{Fs} &= 1.700 \\; \n",
       "\\\\[10pt]\n",
       "& \\textrm{ 1.3. Importance Factor}\\\\[10pt]\n",
       "I &= 1 \\; \n",
       "\\\\[10pt]\n",
       "& \\textrm{ \\textbf{2. Geometry Properties}}\\\\[10pt]\n",
       "& \\textrm{ 2.1. Wall Length}\\\\[10pt]\n",
       "L &= 3.000 \\; \\;\\textrm{(m)}\n",
       "\\\\[10pt]\n",
       "& \\textrm{ 2.2. Wall thickness}\\\\[10pt]\n",
       "t &= 0.150 \\; \\;\\textrm{(m)}\n",
       "\\\\[10pt]\n",
       "& \\textrm{ 2.3. Wall Height}\\\\[10pt]\n",
       "H &= 3.500 \\; \\;\\textrm{(m)}\n",
       "\\\\[10pt]\n",
       "& \\textrm{ 2.4. Confined Wall Elements width and height}\\\\[10pt]\n",
       "w_{c} &= 0.150 \\; \\;\\textrm{(m)}\n",
       "\\\\[10pt]\n",
       "& \\textrm{ 2.5. Panel length}\\\\[10pt]\n",
       "\\mathrm{Lw} &= L - w_{c} \\cdot 2  = 3.000 - 0.150 \\cdot 2 &= 2.700 \\; \\;\\textrm{(m)}\n",
       "\\\\[10pt]\n",
       "& \\textrm{ 2.6. Panel height}\\\\[10pt]\n",
       "\\mathrm{Hw} &= \\frac{ H - w_{c} - w_{c} }{ 2 }  = \\frac{ 3.500 - 0.150 - 0.150 }{ 2 } &= 1.600 \\; \\;\\textrm{(m)}\n",
       "\\\\[10pt]\n",
       "& \\textrm{ \\textbf{3. Material Properties}}\\\\[10pt]\n",
       "& \\textrm{ 3.1. Masonry compressive strength based on Net area}\\\\[10pt]\n",
       "f_{mn} &= 55 \\; \\;\\textrm{($kg/cm^2$)}\n",
       "\\\\[10pt]\n",
       "& \\textrm{ 3.2. Relationship ratio between Gross Area and Net Area.}\\\\[10pt]\n",
       "\\mathrm{factor} &= \\frac{ 48.75 }{ 93 } &= 0.524 \\; \\;\\textrm{(-)}\n",
       "\\\\[10pt]\n",
       "& \\textrm{ \\textbf{4. Loads}}\\\\[10pt]\n",
       "& \\textrm{ 4.1. Wall Panel weight}\\\\[10pt]\n",
       "\\mathrm{Pe} &= 1800 \\cdot t \\cdot \\mathrm{factor}  = 1800 \\cdot 0.150 \\cdot 0.524 &= 141.532 \\; \\;\\textrm{($kg/m^2$)}\n",
       "\\\\[10pt]\n",
       "& \\textrm{ 4.2. Axial Load on Walls}\\\\[10pt]\n",
       "P &= 4000 \\; \\;\\textrm{(kg)}\n",
       "\\\\[10pt]\n",
       "& \\textrm{ 4.3. Shear Load on Walls}\\\\[10pt]\n",
       "V &= 1000 \\; \\;\\textrm{(kg)}\n",
       "\\\\[10pt]\n",
       "& \\textrm{ \\textbf{5. Boundary Conditions}}\\\\[10pt]\n",
       "& \\textrm{  5.1. Wall with all borders restrained}\\\\[10pt]\n",
       "& \\textrm{ \\small \\textit{Reference: Peruvian code, chapter 19, table 13 (E070, 2019)}}\\\\[10pt]\n",
       "\\mathrm{Case} &= 1 \\; \\;\\textrm{(-)}\n",
       "\\\\[10pt]\n",
       "& \\textrm{ \\LARGE Calculations}\\\\[10pt]\n",
       "& \\textrm{ \\textbf{1. Geometric parameters and adimensional moment coefficient}}\\\\[10pt]\n",
       "& \\textrm{ \\small \\textit{Reference: Peruvian code, chapter 19, table 13 (E070, 2019)}}\\\\[10pt]\n",
       "a &= \\mathrm{np.minimum} { \\left( \\mathrm{Lw} ,\\  \\mathrm{Hw} \\right) }  = np.minimum { \\left( 2.700 ,\\  1.600 \\right) } &= 1.600 \\; \\;\\textrm{(m)}\n",
       "\\\\[10pt]\n",
       "b &= \\mathrm{np.maximum} { \\left( \\mathrm{Lw} ,\\  \\mathrm{Hw} \\right) }  = np.maximum { \\left( 2.700 ,\\  1.600 \\right) } &= 2.700 \\; \\;\\textrm{(m)}\n",
       "\\\\[10pt]\n",
       "m &= 0.095 \\; \\;\\textrm{(-)}\n",
       "\\\\[10pt]\n",
       "& \\textrm{ 1.1. Axial Load Eccentricity (Assuming 10 \\% of thickness)}\\\\[10pt]\n",
       "e &= 0.10 \\cdot t  = 0.10 \\cdot 0.150 &= 0.015 \\; \\;\\textrm{(m)}\n",
       "\\\\[10pt]\n",
       "& \\textrm{ \\textbf{2. Hazard transformation from Nicaraguan Hazard to Peruvian Hazard}}\\\\[10pt]\n",
       "Z &= 0.367 \\; \\;\\textrm{(g)}\n",
       "\\\\[10pt]\n",
       "U &= 1 \\; \\;\\textrm{(-)}\n",
       "\\\\[10pt]\n",
       "S &= 1.700 \\; \\;\\textrm{(-)}\n",
       "\\\\[10pt]\n",
       "& \\textrm{ \\textbf{3. Demands}}\\\\[10pt]\n",
       "& \\textrm{ 3.1. Out of plane stress}\\\\[10pt]\n",
       "& \\textrm{ \\small \\textit{Reference: Peruvian code, chapter 19, article 68 (E070, 2019)}}\\\\[10pt]\n",
       "w &= 0.4 \\cdot Z \\cdot U \\cdot S \\cdot \\mathrm{Pe}  = 0.4 \\cdot 0.367 \\cdot 1 \\cdot 1.700 \\cdot 141.532 &= 35.292 \\; \\;\\textrm{($kg/m^2$)}\n",
       "\\\\[10pt]\n",
       "& \\textrm{ 3.2. Out of plane moment}\\\\[10pt]\n",
       "& \\textrm{ \\small \\textit{Reference: Peruvian code, chapter 19, article 68 (E070, 2019)}}\\\\[10pt]\n",
       "\\mathrm{Ms} &= m \\cdot w \\cdot \\left( a \\right) ^{ 2 }  = 0.095 \\cdot 35.292 \\cdot \\left( 1.600 \\right) ^{ 2 } &= 8.565 \\; \\;\\textrm{($kg-m/m$)}\n",
       "\\\\[10pt]\n",
       "& \\textrm{ 3.3. Moment due to gravity load eccentricity}\\\\[10pt]\n",
       "& \\textrm{ \\small \\textit{Reference: Peruvian code, chapter 19, article 69.1 (E070, 2019)}}\\\\[10pt]\n",
       "\\mathrm{Mg} &= P \\cdot e  = 4000 \\cdot 0.015 &= 60.000 \\; \\;\\textrm{($kg-m/m$)}\n",
       "\\\\[10pt]\n",
       "& \\textrm{ 3.4. Total Design Moment}\\\\[10pt]\n",
       "& \\textrm{ \\small \\textit{Reference: Peruvian code, chapter 19, article 69.1 (E070, 2019)}}\\\\[10pt]\n",
       "\\mathrm{Mt} &= \\mathrm{Ms} + \\mathrm{Mg}  = 8.565 + 60.000 &= 68.565 \\; \\;\\textrm{($kg-m/m$)}\n",
       "\\\\[10pt]\n",
       "& \\textrm{ 3.5. Maximum stress}\\\\[10pt]\n",
       "& \\textrm{ 3.5.1. Gravity load per unit length}\\\\[10pt]\n",
       "& \\textrm{ \\small \\textit{Reference: Peruvian code, chapter 19, article 69.2 (E070, 2019)}}\\\\[10pt]\n",
       "\\mathrm{fa} &= \\frac{ P }{ t }  = \\frac{ 4000 }{ 0.150 } &= 26666.667 \\; \\;\\textrm{($kg/m^2$)}\n",
       "\\\\[10pt]\n",
       "& \\textrm{ 3.5.2. Stress due to Mt}\\\\[10pt]\n",
       "& \\textrm{ \\small \\textit{Reference: Peruvian code, chapter 19, article 69.2 (E070, 2019)}}\\\\[10pt]\n",
       "\\mathrm{fm} &= 6 \\cdot \\frac{ \\mathrm{Mt} }{ \\left( t \\right) ^{ 2 } }  = 6 \\cdot \\frac{ 68.565 }{ \\left( 0.150 \\right) ^{ 2 } } &= 18283.980 \\; \\;\\textrm{($kg/m^2$)}\n",
       "\\\\[10pt]\n",
       "& \\textrm{ 3.5.3. Stress capacities}\\\\[10pt]\n",
       "& \\textrm{ \\small \\textit{Reference: Peruvian code, chapter 19, article 69.3 (E070, 2019)}}\\\\[10pt]\n",
       "f_{mg} &= \\mathrm{factor} \\cdot f_{mn} \\cdot 10000  = 0.524 \\cdot 55 \\cdot 10000 &= 288306.452 \\; \\;\\textrm{($kg/m^2$)}\n",
       "\\\\[10pt]\n",
       "\\mathrm{Fa} &= 0.20 \\cdot f_{mg} \\cdot \\left( 1 - \\left( \\frac{ H }{ 35 \\cdot t } \\right) ^{ 2 } \\right)  = 0.20 \\cdot 288306.452 \\cdot \\left( 1 - \\left( \\frac{ 3.500 }{ 35 \\cdot 0.150 } \\right) ^{ 2 } \\right) &= 32034.050 \\; \\;\\textrm{($kg/m^2$)}\n",
       "\\\\[10pt]\n",
       "\\mathrm{Fm} &= 0.4 \\cdot f_{mg}  = 0.4 \\cdot 288306.452 &= 115322.581 \\; \\;\\textrm{($kg/m^2$)}\n",
       "\\end{aligned}\n",
       "\\]"
      ],
      "text/plain": [
       "<IPython.core.display.Latex object>"
      ]
     },
     "metadata": {},
     "output_type": "display_data"
    }
   ],
   "source": [
    "%%render\n",
    "\n",
    "## \\huge Solution:\n",
    "\n",
    "## \\LARGE Data:\n",
    "\n",
    "## \\textbf{1. Seismic Hazard}\n",
    "\n",
    "## 1.1. PGA\n",
    "\n",
    "ac = 0.3667 #g\n",
    "\n",
    "## 1.2. Soil Amplification Factor\n",
    "\n",
    "Fs = 1.7\n",
    "\n",
    "## 1.3. Importance Factor\n",
    "\n",
    "I = 1\n",
    "\n",
    "## \\textbf{2. Geometry Properties}\n",
    "\n",
    "## 2.1. Wall Length\n",
    "\n",
    "L = 3.00 # m\n",
    "\n",
    "## 2.2. Wall thickness\n",
    "\n",
    "t = 0.15 # m\n",
    "\n",
    "## 2.3. Wall Height\n",
    "\n",
    "H = 3.50 # m\n",
    "\n",
    "## 2.4. Confined Wall Elements width and height\n",
    "\n",
    "w_c = 0.15 #m\n",
    "\n",
    "## 2.5. Panel length\n",
    "\n",
    "Lw = L-w_c*2 #m\n",
    "\n",
    "## 2.6. Panel height\n",
    "\n",
    "Hw = (H-w_c-w_c)/2 #m\n",
    "\n",
    "## \\textbf{3. Material Properties}\n",
    "\n",
    "## 3.1. Masonry compressive strength based on Net area\n",
    "\n",
    "f_mn = 55 #$kg/cm^2$\n",
    "\n",
    "## 3.2. Relationship ratio between Gross Area and Net Area.\n",
    "\n",
    "factor = 48.75/93 # -\n",
    "\n",
    "## \\textbf{4. Loads}\n",
    "\n",
    "## 4.1. Wall Panel weight\n",
    "\n",
    "Pe = 1800*t*factor #$kg/m^2$\n",
    "\n",
    "## 4.2. Axial Load on Walls\n",
    "\n",
    "P = 4000 #kg\n",
    "\n",
    "## 4.3. Shear Load on Walls\n",
    "\n",
    "V = 1000 #kg\n",
    "\n",
    "## \\textbf{5. Boundary Conditions}\n",
    "\n",
    "##  5.1. Wall with all borders restrained\n",
    "\n",
    "## \\small \\textit{Reference: Peruvian code, chapter 19, table 13 (E070, 2019)}\n",
    "\n",
    "Case = 1 #-\n",
    "\n",
    "## \\LARGE Calculations\n",
    "\n",
    "## \\textbf{1. Geometric parameters and adimensional moment coefficient}\n",
    "\n",
    "## \\small \\textit{Reference: Peruvian code, chapter 19, table 13 (E070, 2019)}\n",
    "\n",
    "a = np.minimum(Lw,Hw) #m\n",
    "\n",
    "b = np.maximum(Lw,Hw) #m\n",
    "\n",
    "m = 0.0948 #-\n",
    "\n",
    "## 1.1. Axial Load Eccentricity (Assuming 10 \\% of thickness)\n",
    "\n",
    "e = 0.10*t #m\n",
    "\n",
    "## \\textbf{2. Hazard transformation from Nicaraguan Hazard to Peruvian Hazard}\n",
    "\n",
    "Z = ac #g\n",
    "U = I #-\n",
    "S = Fs #-\n",
    "\n",
    "## \\textbf{3. Demands}\n",
    "\n",
    "## 3.1. Out of plane stress\n",
    "## \\small \\textit{Reference: Peruvian code, chapter 19, article 68 (E070, 2019)}\n",
    "w =  0.4*Z*U*S*Pe # $kg/m^2$\n",
    "\n",
    "## 3.2. Out of plane moment\n",
    "## \\small \\textit{Reference: Peruvian code, chapter 19, article 68 (E070, 2019)}\n",
    "Ms =  m*w*a**2 # $kg-m/m$\n",
    "\n",
    "## 3.3. Moment due to gravity load eccentricity\n",
    "## \\small \\textit{Reference: Peruvian code, chapter 19, article 69.1 (E070, 2019)}\n",
    "Mg = P*e #$kg-m/m$\n",
    "\n",
    "## 3.4. Total Design Moment\n",
    "## \\small \\textit{Reference: Peruvian code, chapter 19, article 69.1 (E070, 2019)}\n",
    "Mt = Ms + Mg # $kg-m/m$\n",
    "\n",
    "## 3.5. Maximum stress\n",
    "\n",
    "## 3.5.1. Gravity load per unit length\n",
    "## \\small \\textit{Reference: Peruvian code, chapter 19, article 69.2 (E070, 2019)}\n",
    "fa = P/(t) # $kg/m^2$\n",
    "\n",
    "## 3.5.2. Stress due to Mt\n",
    "## \\small \\textit{Reference: Peruvian code, chapter 19, article 69.2 (E070, 2019)}\n",
    "fm = 6*Mt / (t)**2  # $kg/m^2$\n",
    "\n",
    "## 3.5.3. Stress capacities\n",
    "## \\small \\textit{Reference: Peruvian code, chapter 19, article 69.3 (E070, 2019)}\n",
    "\n",
    "f_mg = factor*f_mn*10000 # $kg/m^2$\n",
    "\n",
    "Fa = 0.20*f_mg *(1-(H/(35*t))**2) # $kg/m^2$\n",
    "\n",
    "Fm = 0.4*f_mg # $kg/m^2$\n",
    "\n",
    "\n",
    "    "
   ]
  },
  {
   "cell_type": "code",
   "execution_count": 9,
   "metadata": {},
   "outputs": [
    {
     "data": {
      "text/latex": [
       "\\[\n",
       "\\begin{aligned}\n",
       "& \\textrm{ \\textbf{4. Stress check}}\\\\[10pt]\n",
       "& \\textrm{ \\small \\textit{Reference: Peruvian code, chapter 19, article 69.3 (E070, 2019)}}\\end{aligned}\n",
       "\\]"
      ],
      "text/plain": [
       "<IPython.core.display.Latex object>"
      ]
     },
     "metadata": {},
     "output_type": "display_data"
    }
   ],
   "source": [
    "%%render\n",
    "## \\textbf{4. Stress check}\n",
    "\n",
    "## \\small \\textit{Reference: Peruvian code, chapter 19, article 69.3 (E070, 2019)}"
   ]
  },
  {
   "cell_type": "code",
   "execution_count": 10,
   "metadata": {},
   "outputs": [
    {
     "data": {
      "text/latex": [
       "\\[\n",
       "\\begin{aligned}\n",
       "&\\text{Since, } \\mathrm{fa} + \\mathrm{fm} \\lt 0.25 \\cdot f_{mg} \\rightarrow \\left( 26666.667 + 18283.980 \\lt 0.25 \\cdot 288306.452 \\right) : \\; \\;\\textrm{($kg/m^2$)} \\\\[10pt]\n",
       "\\mathrm{Check} &= \\mathrm{Ok, 44950.65 < 72076.6129032258} \\; \n",
       "\\end{aligned}\n",
       "\\]"
      ],
      "text/plain": [
       "<IPython.core.display.Latex object>"
      ]
     },
     "metadata": {},
     "output_type": "display_data"
    }
   ],
   "source": [
    "%%render long\n",
    "if fa + fm < 0.25*f_mg: Check = f\"Ok, {round(fa + fm,2)} < {0.25 *f_mg}\" # $kg/m^2$\n",
    "else: Check = f\"Not Ok, {round(fa + fm,2)} > {0.25 *f_mg}\" # $kg/m^2$"
   ]
  },
  {
   "cell_type": "code",
   "execution_count": 11,
   "metadata": {},
   "outputs": [
    {
     "data": {
      "text/latex": [
       "\\[\n",
       "\\begin{aligned}\n",
       "&\\text{Since, } \\frac{ \\mathrm{fm} }{ \\mathrm{Fm} } + \\frac{ \\mathrm{fa} }{ \\mathrm{Fa} } \\leq 1.33 \\rightarrow \\left( \\frac{ 18283.980 }{ 115322.581 } + \\frac{ 26666.667 }{ 32034.050 } \\leq 1.33 \\right) : \\; \\;\\textrm{($-$)} \\\\[10pt]\n",
       "\\mathrm{Check} &= \\mathrm{Ok, 0.99 < 1.33} \\; \n",
       "\\end{aligned}\n",
       "\\]"
      ],
      "text/plain": [
       "<IPython.core.display.Latex object>"
      ]
     },
     "metadata": {},
     "output_type": "display_data"
    }
   ],
   "source": [
    "%%render long\n",
    "if fm/Fm + fa/Fa <= 1.33: Check = f\"Ok, {round(fm/Fm + fa/Fa,2)} < 1.33\" # $-$\n",
    "else: Check = f\"Not Ok, {round(fm/Fm + fa/Fa,2)} > 1.33\" # $-$"
   ]
  },
  {
   "cell_type": "code",
   "execution_count": null,
   "metadata": {},
   "outputs": [],
   "source": []
  }
 ],
 "metadata": {
  "kernelspec": {
   "display_name": "Python 3",
   "language": "python",
   "name": "python3"
  },
  "language_info": {
   "codemirror_mode": {
    "name": "ipython",
    "version": 3
   },
   "file_extension": ".py",
   "mimetype": "text/x-python",
   "name": "python",
   "nbconvert_exporter": "python",
   "pygments_lexer": "ipython3",
   "version": "3.11.5"
  },
  "orig_nbformat": 4
 },
 "nbformat": 4,
 "nbformat_minor": 2
}
